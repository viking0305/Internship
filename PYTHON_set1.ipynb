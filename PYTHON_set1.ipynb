{
 "cells": [
  {
   "cell_type": "code",
   "execution_count": null,
   "id": "b3abe9b6-a264-4115-b77d-ca0c2b0345f2",
   "metadata": {},
   "outputs": [],
   "source": [
    "1.(c) %- this operator calculates the remainder in a division. \n"
   ]
  },
  {
   "cell_type": "code",
   "execution_count": null,
   "id": "e76eb8dd-80f7-4760-9ff7-779f55236344",
   "metadata": {},
   "outputs": [],
   "source": []
  },
  {
   "cell_type": "code",
   "execution_count": 2,
   "id": "ee3fe7fb-2e3c-4ca5-b39a-8ea62b3f6c9c",
   "metadata": {},
   "outputs": [
    {
     "data": {
      "text/plain": [
       "0.6666666666666666"
      ]
     },
     "execution_count": 2,
     "metadata": {},
     "output_type": "execute_result"
    }
   ],
   "source": [
    "2/3 # 2. a)0.666"
   ]
  },
  {
   "cell_type": "markdown",
   "id": "63e44444-914d-4828-b952-578ba5bcd005",
   "metadata": {},
   "source": [
    "6<<2  # 3.c)24"
   ]
  },
  {
   "cell_type": "code",
   "execution_count": 4,
   "id": "05caeca8-6698-4697-a3f2-945ca3487585",
   "metadata": {},
   "outputs": [
    {
     "data": {
      "text/plain": [
       "2"
      ]
     },
     "execution_count": 4,
     "metadata": {},
     "output_type": "execute_result"
    }
   ],
   "source": [
    "6&2   # 4.a)2"
   ]
  },
  {
   "cell_type": "code",
   "execution_count": 5,
   "id": "e6808d8c-8e95-4eed-b617-8cc7e4242c03",
   "metadata": {},
   "outputs": [
    {
     "data": {
      "text/plain": [
       "6"
      ]
     },
     "execution_count": 5,
     "metadata": {},
     "output_type": "execute_result"
    }
   ],
   "source": [
    "6|2  # 5.d)6"
   ]
  },
  {
   "cell_type": "code",
   "execution_count": null,
   "id": "d934c008-040a-4e53-a4fd-1d4248ed2a0a",
   "metadata": {},
   "outputs": [],
   "source": [
    "  6. c) the finally block will be executed no matter if the try block raises an error or not."
   ]
  },
  {
   "cell_type": "code",
   "execution_count": null,
   "id": "d6a24777-baa2-419e-9314-b92b4fd4468c",
   "metadata": {},
   "outputs": [],
   "source": [
    "7. a) it is used to rais an exception"
   ]
  },
  {
   "cell_type": "code",
   "execution_count": null,
   "id": "933a23ad-9286-45a1-9de9-36afc09ea67c",
   "metadata": {},
   "outputs": [],
   "source": [
    "8. a) in defining an iterator"
   ]
  },
  {
   "cell_type": "code",
   "execution_count": null,
   "id": "37ffbd24-7935-4088-85ef-613e885047a1",
   "metadata": {},
   "outputs": [],
   "source": [
    "9. a) _abc and c) abc2 . both are valid variable name."
   ]
  },
  {
   "cell_type": "code",
   "execution_count": null,
   "id": "6c6420ad-95b7-487f-a55d-4c92ba9b3177",
   "metadata": {},
   "outputs": [],
   "source": [
    "10. a) yield and b) raise . both are keywords in python"
   ]
  },
  {
   "cell_type": "markdown",
   "id": "4c6d4618-3f0f-4f68-8922-f9bf861ff17e",
   "metadata": {},
   "source": [
    "programming question"
   ]
  },
  {
   "cell_type": "code",
   "execution_count": null,
   "id": "33258770-7f41-4018-93c6-a5ae11f2f7de",
   "metadata": {},
   "outputs": [],
   "source": [
    "11. factorial of a number"
   ]
  },
  {
   "cell_type": "code",
   "execution_count": 7,
   "id": "0ecf5f39-461a-454d-9308-f1843a4bd98b",
   "metadata": {},
   "outputs": [
    {
     "name": "stdout",
     "output_type": "stream",
     "text": [
      "Factorial of 5 is 120\n"
     ]
    }
   ],
   "source": [
    "def factorial(n):\n",
    "    if n < 0:\n",
    "        return \"Invalid input\"\n",
    "    if n == 0 or n == 1:\n",
    "        return 1\n",
    "    return n * factorial(n - 1)\n",
    "\n",
    "number = 5  # Example number\n",
    "print(f\"Factorial of {number} is {factorial(number)}\")\n"
   ]
  },
  {
   "cell_type": "code",
   "execution_count": null,
   "id": "0e67c44c-4942-4fc8-bf5c-6974fd2f6b04",
   "metadata": {},
   "outputs": [],
   "source": [
    "12. number is prime or composite"
   ]
  },
  {
   "cell_type": "code",
   "execution_count": 8,
   "id": "391e478f-02c4-46b4-b62f-57895d21febf",
   "metadata": {},
   "outputs": [
    {
     "name": "stdout",
     "output_type": "stream",
     "text": [
      "11 is Prime\n"
     ]
    }
   ],
   "source": [
    "def is_prime(n):\n",
    "    if n <= 1:\n",
    "        return \"Neither prime nor composite\"\n",
    "    for i in range(2, int(n**0.5) + 1):\n",
    "        if n % i == 0:\n",
    "            return \"Composite\"\n",
    "    return \"Prime\"\n",
    "\n",
    "number = 11  # Example number\n",
    "print(f\"{number} is {is_prime(number)}\")\n"
   ]
  },
  {
   "cell_type": "code",
   "execution_count": null,
   "id": "5fcd30db-1d82-46f1-8fad-b6cb39fe5226",
   "metadata": {},
   "outputs": [],
   "source": [
    "13. given string is palindrome or not"
   ]
  },
  {
   "cell_type": "code",
   "execution_count": 9,
   "id": "ba4b01ff-77ad-4560-920c-f0a4e50863b1",
   "metadata": {},
   "outputs": [
    {
     "name": "stdout",
     "output_type": "stream",
     "text": [
      "'racecar' is a palindrome: True\n"
     ]
    }
   ],
   "source": [
    "def is_palindrome(s):\n",
    "    return s == s[::-1]\n",
    "\n",
    "string = \"racecar\"  # Example string\n",
    "print(f\"'{string}' is a palindrome: {is_palindrome(string)}\")\n"
   ]
  },
  {
   "cell_type": "code",
   "execution_count": null,
   "id": "770937d8-725d-48bb-95bd-de3b3f3926c4",
   "metadata": {},
   "outputs": [],
   "source": [
    "14.third side of right angled triangle from given sides."
   ]
  },
  {
   "cell_type": "code",
   "execution_count": 10,
   "id": "d8ce4e59-7504-471b-8884-197bab204120",
   "metadata": {},
   "outputs": [
    {
     "name": "stdout",
     "output_type": "stream",
     "text": [
      "The third side of the right-angled triangle is 5.0\n"
     ]
    }
   ],
   "source": [
    "import math\n",
    "\n",
    "def third_side(a, b):\n",
    "    return math.sqrt(a**2 + b**2)\n",
    "\n",
    "side1 = 3  # Example side\n",
    "side2 = 4  # Example side\n",
    "print(f\"The third side of the right-angled triangle is {third_side(side1, side2)}\")\n"
   ]
  },
  {
   "cell_type": "code",
   "execution_count": null,
   "id": "9cb617f3-76a8-43eb-86b9-572575aa3bcf",
   "metadata": {},
   "outputs": [],
   "source": [
    "15.frequency of each character present in a given string."
   ]
  },
  {
   "cell_type": "code",
   "execution_count": 11,
   "id": "d9cda54b-b67a-496a-a9b7-8d454be4aa64",
   "metadata": {},
   "outputs": [
    {
     "name": "stdout",
     "output_type": "stream",
     "text": [
      "Character frequency: {'h': 1, 'e': 1, 'l': 3, 'o': 2, ' ': 1, 'w': 1, 'r': 1, 'd': 1}\n"
     ]
    }
   ],
   "source": [
    "def char_frequency(s):\n",
    "    freq = {}\n",
    "    for char in s:\n",
    "        freq[char] = freq.get(char, 0) + 1\n",
    "    return freq\n",
    "\n",
    "string = \"hello world\"  # Example string\n",
    "print(f\"Character frequency: {char_frequency(string)}\")\n"
   ]
  },
  {
   "cell_type": "code",
   "execution_count": null,
   "id": "a9e2d268-9b1e-44fe-bf8e-50c3873de67d",
   "metadata": {},
   "outputs": [],
   "source": []
  },
  {
   "cell_type": "code",
   "execution_count": null,
   "id": "baf75561-ee52-4a6d-8d80-b63f3c76d755",
   "metadata": {},
   "outputs": [],
   "source": []
  }
 ],
 "metadata": {
  "kernelspec": {
   "display_name": "Python 3 (ipykernel)",
   "language": "python",
   "name": "python3"
  },
  "language_info": {
   "codemirror_mode": {
    "name": "ipython",
    "version": 3
   },
   "file_extension": ".py",
   "mimetype": "text/x-python",
   "name": "python",
   "nbconvert_exporter": "python",
   "pygments_lexer": "ipython3",
   "version": "3.11.7"
  },
  "widgets": {
   "application/vnd.jupyter.widget-state+json": {
    "state": {},
    "version_major": 2,
    "version_minor": 0
   }
  }
 },
 "nbformat": 4,
 "nbformat_minor": 5
}
